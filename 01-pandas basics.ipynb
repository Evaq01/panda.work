{
 "cells": [
  {
   "cell_type": "markdown",
   "id": "c8e1cb81-6b9e-4e41-abfb-03bb410afbd9",
   "metadata": {},
   "source": [
    "# Pandas basics"
   ]
  },
  {
   "cell_type": "code",
   "execution_count": 2,
   "id": "c2727f7f-9abf-4a76-b629-4d242065048d",
   "metadata": {},
   "outputs": [
    {
     "name": "stdout",
     "output_type": "stream",
     "text": [
      "01-pandas basics.ipynb continent_facts.csv    countries.csv\n"
     ]
    }
   ],
   "source": [
    "!ls"
   ]
  },
  {
   "cell_type": "markdown",
   "id": "a648c232",
   "metadata": {},
   "source": [
    "## LET'S INSTALL PANADA\n",
    "## STEP 01"
   ]
  },
  {
   "cell_type": "code",
   "execution_count": null,
   "id": "623e59a3",
   "metadata": {},
   "outputs": [],
   "source": [
    "# '--quiet' give less output."
   ]
  },
  {
   "cell_type": "markdown",
   "id": "13cab43d",
   "metadata": {},
   "source": [
    "## STEP 02"
   ]
  },
  {
   "cell_type": "code",
   "execution_count": 3,
   "id": "f63f014e",
   "metadata": {},
   "outputs": [
    {
     "name": "stdout",
     "output_type": "stream",
     "text": [
      "\n",
      "\u001b[1m[\u001b[0m\u001b[34;49mnotice\u001b[0m\u001b[1;39;49m]\u001b[0m\u001b[39;49m A new release of pip is available: \u001b[0m\u001b[31;49m24.0\u001b[0m\u001b[39;49m -> \u001b[0m\u001b[32;49m24.1.2\u001b[0m\n",
      "\u001b[1m[\u001b[0m\u001b[34;49mnotice\u001b[0m\u001b[1;39;49m]\u001b[0m\u001b[39;49m To update, run: \u001b[0m\u001b[32;49mpip install --upgrade pip\u001b[0m\n"
     ]
    }
   ],
   "source": [
    "!pip install --quiet pandas"
   ]
  },
  {
   "cell_type": "code",
   "execution_count": null,
   "id": "2814ed4c",
   "metadata": {},
   "outputs": [],
   "source": [
    "# this means \"I want to use requests in this notebook/file\"\n",
    "import requests"
   ]
  },
  {
   "cell_type": "markdown",
   "id": "16769dc0",
   "metadata": {},
   "source": [
    "## STEP 03"
   ]
  },
  {
   "cell_type": "code",
   "execution_count": 7,
   "id": "4965eb54",
   "metadata": {},
   "outputs": [],
   "source": [
    "import pandas as pd"
   ]
  },
  {
   "cell_type": "markdown",
   "id": "2a3288d1",
   "metadata": {},
   "source": [
    "## STEP 04"
   ]
  },
  {
   "cell_type": "code",
   "execution_count": 8,
   "id": "35386d4c",
   "metadata": {},
   "outputs": [
    {
     "data": {
      "text/html": [
       "<div>\n",
       "<style scoped>\n",
       "    .dataframe tbody tr th:only-of-type {\n",
       "        vertical-align: middle;\n",
       "    }\n",
       "\n",
       "    .dataframe tbody tr th {\n",
       "        vertical-align: top;\n",
       "    }\n",
       "\n",
       "    .dataframe thead th {\n",
       "        text-align: right;\n",
       "    }\n",
       "</style>\n",
       "<table border=\"1\" class=\"dataframe\">\n",
       "  <thead>\n",
       "    <tr style=\"text-align: right;\">\n",
       "      <th></th>\n",
       "      <th>country</th>\n",
       "      <th>continent</th>\n",
       "      <th>life_expectancy</th>\n",
       "      <th>population</th>\n",
       "      <th>gdp</th>\n",
       "    </tr>\n",
       "  </thead>\n",
       "  <tbody>\n",
       "    <tr>\n",
       "      <th>0</th>\n",
       "      <td>Afghanistan</td>\n",
       "      <td>Asia</td>\n",
       "      <td>54.863</td>\n",
       "      <td>22856302</td>\n",
       "      <td>15153728226</td>\n",
       "    </tr>\n",
       "    <tr>\n",
       "      <th>1</th>\n",
       "      <td>Albania</td>\n",
       "      <td>Europe</td>\n",
       "      <td>74.200</td>\n",
       "      <td>3071856</td>\n",
       "      <td>12886435920</td>\n",
       "    </tr>\n",
       "    <tr>\n",
       "      <th>2</th>\n",
       "      <td>Algeria</td>\n",
       "      <td>Africa</td>\n",
       "      <td>68.963</td>\n",
       "      <td>30533827</td>\n",
       "      <td>155661450046</td>\n",
       "    </tr>\n",
       "    <tr>\n",
       "      <th>3</th>\n",
       "      <td>Angola</td>\n",
       "      <td>Africa</td>\n",
       "      <td>45.234</td>\n",
       "      <td>13926373</td>\n",
       "      <td>34063908358</td>\n",
       "    </tr>\n",
       "    <tr>\n",
       "      <th>4</th>\n",
       "      <td>Antigua and Barbuda</td>\n",
       "      <td>N. America</td>\n",
       "      <td>73.544</td>\n",
       "      <td>77656</td>\n",
       "      <td>989182128</td>\n",
       "    </tr>\n",
       "    <tr>\n",
       "      <th>...</th>\n",
       "      <td>...</td>\n",
       "      <td>...</td>\n",
       "      <td>...</td>\n",
       "      <td>...</td>\n",
       "      <td>...</td>\n",
       "    </tr>\n",
       "    <tr>\n",
       "      <th>183</th>\n",
       "      <td>Vietnam</td>\n",
       "      <td>Asia</td>\n",
       "      <td>73.777</td>\n",
       "      <td>78758010</td>\n",
       "      <td>124201381770</td>\n",
       "    </tr>\n",
       "    <tr>\n",
       "      <th>184</th>\n",
       "      <td>West Bank and Gaza</td>\n",
       "      <td>Asia</td>\n",
       "      <td>70.929</td>\n",
       "      <td>3198560</td>\n",
       "      <td>24264276160</td>\n",
       "    </tr>\n",
       "    <tr>\n",
       "      <th>185</th>\n",
       "      <td>Yemen, Rep.</td>\n",
       "      <td>Asia</td>\n",
       "      <td>60.404</td>\n",
       "      <td>17723186</td>\n",
       "      <td>39292303362</td>\n",
       "    </tr>\n",
       "    <tr>\n",
       "      <th>186</th>\n",
       "      <td>Zambia</td>\n",
       "      <td>Africa</td>\n",
       "      <td>41.802</td>\n",
       "      <td>10201562</td>\n",
       "      <td>10558616670</td>\n",
       "    </tr>\n",
       "    <tr>\n",
       "      <th>187</th>\n",
       "      <td>Zimbabwe</td>\n",
       "      <td>Africa</td>\n",
       "      <td>43.976</td>\n",
       "      <td>12509477</td>\n",
       "      <td>9319560365</td>\n",
       "    </tr>\n",
       "  </tbody>\n",
       "</table>\n",
       "<p>188 rows × 5 columns</p>\n",
       "</div>"
      ],
      "text/plain": [
       "                 country   continent  life_expectancy  population  \\\n",
       "0            Afghanistan        Asia           54.863    22856302   \n",
       "1                Albania      Europe           74.200     3071856   \n",
       "2                Algeria      Africa           68.963    30533827   \n",
       "3                 Angola      Africa           45.234    13926373   \n",
       "4    Antigua and Barbuda  N. America           73.544       77656   \n",
       "..                   ...         ...              ...         ...   \n",
       "183              Vietnam        Asia           73.777    78758010   \n",
       "184   West Bank and Gaza        Asia           70.929     3198560   \n",
       "185          Yemen, Rep.        Asia           60.404    17723186   \n",
       "186               Zambia      Africa           41.802    10201562   \n",
       "187             Zimbabwe      Africa           43.976    12509477   \n",
       "\n",
       "              gdp  \n",
       "0     15153728226  \n",
       "1     12886435920  \n",
       "2    155661450046  \n",
       "3     34063908358  \n",
       "4       989182128  \n",
       "..            ...  \n",
       "183  124201381770  \n",
       "184   24264276160  \n",
       "185   39292303362  \n",
       "186   10558616670  \n",
       "187    9319560365  \n",
       "\n",
       "[188 rows x 5 columns]"
      ]
     },
     "execution_count": 8,
     "metadata": {},
     "output_type": "execute_result"
    }
   ],
   "source": [
    "pandas.read_csv(\"countries.csv\")"
   ]
  },
  {
   "cell_type": "markdown",
   "id": "86a019c1",
   "metadata": {},
   "source": [
    "## STEP 05\n",
    "Use pd to read in the csv.\"countries.csv\"\n",
    "this is called a dataframe"
   ]
  },
  {
   "cell_type": "code",
   "execution_count": 11,
   "id": "1fdb06a9",
   "metadata": {},
   "outputs": [],
   "source": [
    "df=pd.read_csv(\"countries.csv\")"
   ]
  },
  {
   "cell_type": "markdown",
   "id": "79ad0e6e",
   "metadata": {},
   "source": [
    "## STEP 06\n",
    "LET'S LOOK AT THE FIRST FIVE"
   ]
  },
  {
   "cell_type": "code",
   "execution_count": 12,
   "id": "eea9e171",
   "metadata": {},
   "outputs": [
    {
     "data": {
      "text/html": [
       "<div>\n",
       "<style scoped>\n",
       "    .dataframe tbody tr th:only-of-type {\n",
       "        vertical-align: middle;\n",
       "    }\n",
       "\n",
       "    .dataframe tbody tr th {\n",
       "        vertical-align: top;\n",
       "    }\n",
       "\n",
       "    .dataframe thead th {\n",
       "        text-align: right;\n",
       "    }\n",
       "</style>\n",
       "<table border=\"1\" class=\"dataframe\">\n",
       "  <thead>\n",
       "    <tr style=\"text-align: right;\">\n",
       "      <th></th>\n",
       "      <th>country</th>\n",
       "      <th>continent</th>\n",
       "      <th>life_expectancy</th>\n",
       "      <th>population</th>\n",
       "      <th>gdp</th>\n",
       "    </tr>\n",
       "  </thead>\n",
       "  <tbody>\n",
       "    <tr>\n",
       "      <th>0</th>\n",
       "      <td>Afghanistan</td>\n",
       "      <td>Asia</td>\n",
       "      <td>54.863</td>\n",
       "      <td>22856302</td>\n",
       "      <td>15153728226</td>\n",
       "    </tr>\n",
       "    <tr>\n",
       "      <th>1</th>\n",
       "      <td>Albania</td>\n",
       "      <td>Europe</td>\n",
       "      <td>74.200</td>\n",
       "      <td>3071856</td>\n",
       "      <td>12886435920</td>\n",
       "    </tr>\n",
       "    <tr>\n",
       "      <th>2</th>\n",
       "      <td>Algeria</td>\n",
       "      <td>Africa</td>\n",
       "      <td>68.963</td>\n",
       "      <td>30533827</td>\n",
       "      <td>155661450046</td>\n",
       "    </tr>\n",
       "    <tr>\n",
       "      <th>3</th>\n",
       "      <td>Angola</td>\n",
       "      <td>Africa</td>\n",
       "      <td>45.234</td>\n",
       "      <td>13926373</td>\n",
       "      <td>34063908358</td>\n",
       "    </tr>\n",
       "    <tr>\n",
       "      <th>4</th>\n",
       "      <td>Antigua and Barbuda</td>\n",
       "      <td>N. America</td>\n",
       "      <td>73.544</td>\n",
       "      <td>77656</td>\n",
       "      <td>989182128</td>\n",
       "    </tr>\n",
       "  </tbody>\n",
       "</table>\n",
       "</div>"
      ],
      "text/plain": [
       "               country   continent  life_expectancy  population           gdp\n",
       "0          Afghanistan        Asia           54.863    22856302   15153728226\n",
       "1              Albania      Europe           74.200     3071856   12886435920\n",
       "2              Algeria      Africa           68.963    30533827  155661450046\n",
       "3               Angola      Africa           45.234    13926373   34063908358\n",
       "4  Antigua and Barbuda  N. America           73.544       77656     989182128"
      ]
     },
     "execution_count": 12,
     "metadata": {},
     "output_type": "execute_result"
    }
   ],
   "source": [
    "# let's look at the first five\n",
    "df.head()"
   ]
  },
  {
   "cell_type": "code",
   "execution_count": 9,
   "id": "042a601a",
   "metadata": {},
   "outputs": [
    {
     "data": {
      "text/html": [
       "<div>\n",
       "<style scoped>\n",
       "    .dataframe tbody tr th:only-of-type {\n",
       "        vertical-align: middle;\n",
       "    }\n",
       "\n",
       "    .dataframe tbody tr th {\n",
       "        vertical-align: top;\n",
       "    }\n",
       "\n",
       "    .dataframe thead th {\n",
       "        text-align: right;\n",
       "    }\n",
       "</style>\n",
       "<table border=\"1\" class=\"dataframe\">\n",
       "  <thead>\n",
       "    <tr style=\"text-align: right;\">\n",
       "      <th></th>\n",
       "      <th>country</th>\n",
       "      <th>continent</th>\n",
       "      <th>life_expectancy</th>\n",
       "      <th>population</th>\n",
       "      <th>gdp</th>\n",
       "    </tr>\n",
       "  </thead>\n",
       "  <tbody>\n",
       "    <tr>\n",
       "      <th>0</th>\n",
       "      <td>Afghanistan</td>\n",
       "      <td>Asia</td>\n",
       "      <td>54.863</td>\n",
       "      <td>22856302</td>\n",
       "      <td>15153728226</td>\n",
       "    </tr>\n",
       "    <tr>\n",
       "      <th>1</th>\n",
       "      <td>Albania</td>\n",
       "      <td>Europe</td>\n",
       "      <td>74.200</td>\n",
       "      <td>3071856</td>\n",
       "      <td>12886435920</td>\n",
       "    </tr>\n",
       "    <tr>\n",
       "      <th>2</th>\n",
       "      <td>Algeria</td>\n",
       "      <td>Africa</td>\n",
       "      <td>68.963</td>\n",
       "      <td>30533827</td>\n",
       "      <td>155661450046</td>\n",
       "    </tr>\n",
       "    <tr>\n",
       "      <th>3</th>\n",
       "      <td>Angola</td>\n",
       "      <td>Africa</td>\n",
       "      <td>45.234</td>\n",
       "      <td>13926373</td>\n",
       "      <td>34063908358</td>\n",
       "    </tr>\n",
       "    <tr>\n",
       "      <th>4</th>\n",
       "      <td>Antigua and Barbuda</td>\n",
       "      <td>N. America</td>\n",
       "      <td>73.544</td>\n",
       "      <td>77656</td>\n",
       "      <td>989182128</td>\n",
       "    </tr>\n",
       "    <tr>\n",
       "      <th>...</th>\n",
       "      <td>...</td>\n",
       "      <td>...</td>\n",
       "      <td>...</td>\n",
       "      <td>...</td>\n",
       "      <td>...</td>\n",
       "    </tr>\n",
       "    <tr>\n",
       "      <th>183</th>\n",
       "      <td>Vietnam</td>\n",
       "      <td>Asia</td>\n",
       "      <td>73.777</td>\n",
       "      <td>78758010</td>\n",
       "      <td>124201381770</td>\n",
       "    </tr>\n",
       "    <tr>\n",
       "      <th>184</th>\n",
       "      <td>West Bank and Gaza</td>\n",
       "      <td>Asia</td>\n",
       "      <td>70.929</td>\n",
       "      <td>3198560</td>\n",
       "      <td>24264276160</td>\n",
       "    </tr>\n",
       "    <tr>\n",
       "      <th>185</th>\n",
       "      <td>Yemen, Rep.</td>\n",
       "      <td>Asia</td>\n",
       "      <td>60.404</td>\n",
       "      <td>17723186</td>\n",
       "      <td>39292303362</td>\n",
       "    </tr>\n",
       "    <tr>\n",
       "      <th>186</th>\n",
       "      <td>Zambia</td>\n",
       "      <td>Africa</td>\n",
       "      <td>41.802</td>\n",
       "      <td>10201562</td>\n",
       "      <td>10558616670</td>\n",
       "    </tr>\n",
       "    <tr>\n",
       "      <th>187</th>\n",
       "      <td>Zimbabwe</td>\n",
       "      <td>Africa</td>\n",
       "      <td>43.976</td>\n",
       "      <td>12509477</td>\n",
       "      <td>9319560365</td>\n",
       "    </tr>\n",
       "  </tbody>\n",
       "</table>\n",
       "<p>188 rows × 5 columns</p>\n",
       "</div>"
      ],
      "text/plain": [
       "                 country   continent  life_expectancy  population  \\\n",
       "0            Afghanistan        Asia           54.863    22856302   \n",
       "1                Albania      Europe           74.200     3071856   \n",
       "2                Algeria      Africa           68.963    30533827   \n",
       "3                 Angola      Africa           45.234    13926373   \n",
       "4    Antigua and Barbuda  N. America           73.544       77656   \n",
       "..                   ...         ...              ...         ...   \n",
       "183              Vietnam        Asia           73.777    78758010   \n",
       "184   West Bank and Gaza        Asia           70.929     3198560   \n",
       "185          Yemen, Rep.        Asia           60.404    17723186   \n",
       "186               Zambia      Africa           41.802    10201562   \n",
       "187             Zimbabwe      Africa           43.976    12509477   \n",
       "\n",
       "              gdp  \n",
       "0     15153728226  \n",
       "1     12886435920  \n",
       "2    155661450046  \n",
       "3     34063908358  \n",
       "4       989182128  \n",
       "..            ...  \n",
       "183  124201381770  \n",
       "184   24264276160  \n",
       "185   39292303362  \n",
       "186   10558616670  \n",
       "187    9319560365  \n",
       "\n",
       "[188 rows x 5 columns]"
      ]
     },
     "execution_count": 9,
     "metadata": {},
     "output_type": "execute_result"
    }
   ],
   "source": [
    "pd.read_csv(\"countries.csv\")"
   ]
  },
  {
   "cell_type": "markdown",
   "id": "05a01168",
   "metadata": {},
   "source": [
    "## STEP 07\n",
    "## I WANT TO LOOK AT THE LIFE EXPECTANCY "
   ]
  },
  {
   "cell_type": "code",
   "execution_count": 16,
   "id": "82d498ca",
   "metadata": {},
   "outputs": [
    {
     "data": {
      "text/plain": [
       "0      54.863\n",
       "1      74.200\n",
       "2      68.963\n",
       "3      45.234\n",
       "4      73.544\n",
       "        ...  \n",
       "183    73.777\n",
       "184    70.929\n",
       "185    60.404\n",
       "186    41.802\n",
       "187    43.976\n",
       "Name: life_expectancy, Length: 188, dtype: float64"
      ]
     },
     "execution_count": 16,
     "metadata": {},
     "output_type": "execute_result"
    }
   ],
   "source": [
    "df[\"life_expectancy\"]"
   ]
  },
  {
   "cell_type": "markdown",
   "id": "c7fa379d",
   "metadata": {},
   "source": [
    "## STEP 08\n",
    "## SORT AND WANT IT TO BE PRETTY\n",
    "## AND FROM THE HIGHEST TO THE LOWEST"
   ]
  },
  {
   "cell_type": "code",
   "execution_count": 19,
   "id": "a4d8a1ba",
   "metadata": {},
   "outputs": [
    {
     "data": {
      "text/html": [
       "<div>\n",
       "<style scoped>\n",
       "    .dataframe tbody tr th:only-of-type {\n",
       "        vertical-align: middle;\n",
       "    }\n",
       "\n",
       "    .dataframe tbody tr th {\n",
       "        vertical-align: top;\n",
       "    }\n",
       "\n",
       "    .dataframe thead th {\n",
       "        text-align: right;\n",
       "    }\n",
       "</style>\n",
       "<table border=\"1\" class=\"dataframe\">\n",
       "  <thead>\n",
       "    <tr style=\"text-align: right;\">\n",
       "      <th></th>\n",
       "      <th>country</th>\n",
       "      <th>continent</th>\n",
       "      <th>life_expectancy</th>\n",
       "      <th>population</th>\n",
       "      <th>gdp</th>\n",
       "    </tr>\n",
       "  </thead>\n",
       "  <tbody>\n",
       "    <tr>\n",
       "      <th>83</th>\n",
       "      <td>Japan</td>\n",
       "      <td>Asia</td>\n",
       "      <td>81.350</td>\n",
       "      <td>125720310</td>\n",
       "      <td>3590446333290</td>\n",
       "    </tr>\n",
       "    <tr>\n",
       "      <th>72</th>\n",
       "      <td>Hong Kong, China</td>\n",
       "      <td>Asia</td>\n",
       "      <td>80.361</td>\n",
       "      <td>6783317</td>\n",
       "      <td>203309577124</td>\n",
       "    </tr>\n",
       "    <tr>\n",
       "      <th>161</th>\n",
       "      <td>Switzerland</td>\n",
       "      <td>Europe</td>\n",
       "      <td>79.990</td>\n",
       "      <td>7167908</td>\n",
       "      <td>246475684488</td>\n",
       "    </tr>\n",
       "    <tr>\n",
       "      <th>7</th>\n",
       "      <td>Australia</td>\n",
       "      <td>Oceania</td>\n",
       "      <td>79.930</td>\n",
       "      <td>19164351</td>\n",
       "      <td>560384787591</td>\n",
       "    </tr>\n",
       "    <tr>\n",
       "      <th>160</th>\n",
       "      <td>Sweden</td>\n",
       "      <td>Europe</td>\n",
       "      <td>79.840</td>\n",
       "      <td>8860153</td>\n",
       "      <td>253754781920</td>\n",
       "    </tr>\n",
       "    <tr>\n",
       "      <th>...</th>\n",
       "      <td>...</td>\n",
       "      <td>...</td>\n",
       "      <td>...</td>\n",
       "      <td>...</td>\n",
       "      <td>...</td>\n",
       "    </tr>\n",
       "    <tr>\n",
       "      <th>3</th>\n",
       "      <td>Angola</td>\n",
       "      <td>Africa</td>\n",
       "      <td>45.234</td>\n",
       "      <td>13926373</td>\n",
       "      <td>34063908358</td>\n",
       "    </tr>\n",
       "    <tr>\n",
       "      <th>187</th>\n",
       "      <td>Zimbabwe</td>\n",
       "      <td>Africa</td>\n",
       "      <td>43.976</td>\n",
       "      <td>12509477</td>\n",
       "      <td>9319560365</td>\n",
       "    </tr>\n",
       "    <tr>\n",
       "      <th>31</th>\n",
       "      <td>Central African Rep.</td>\n",
       "      <td>Africa</td>\n",
       "      <td>43.727</td>\n",
       "      <td>3701607</td>\n",
       "      <td>2820624534</td>\n",
       "    </tr>\n",
       "    <tr>\n",
       "      <th>186</th>\n",
       "      <td>Zambia</td>\n",
       "      <td>Africa</td>\n",
       "      <td>41.802</td>\n",
       "      <td>10201562</td>\n",
       "      <td>10558616670</td>\n",
       "    </tr>\n",
       "    <tr>\n",
       "      <th>147</th>\n",
       "      <td>Sierra Leone</td>\n",
       "      <td>Africa</td>\n",
       "      <td>38.123</td>\n",
       "      <td>4143115</td>\n",
       "      <td>2141990455</td>\n",
       "    </tr>\n",
       "  </tbody>\n",
       "</table>\n",
       "<p>188 rows × 5 columns</p>\n",
       "</div>"
      ],
      "text/plain": [
       "                  country continent  life_expectancy  population  \\\n",
       "83                  Japan      Asia           81.350   125720310   \n",
       "72       Hong Kong, China      Asia           80.361     6783317   \n",
       "161           Switzerland    Europe           79.990     7167908   \n",
       "7               Australia   Oceania           79.930    19164351   \n",
       "160                Sweden    Europe           79.840     8860153   \n",
       "..                    ...       ...              ...         ...   \n",
       "3                  Angola    Africa           45.234    13926373   \n",
       "187              Zimbabwe    Africa           43.976    12509477   \n",
       "31   Central African Rep.    Africa           43.727     3701607   \n",
       "186                Zambia    Africa           41.802    10201562   \n",
       "147          Sierra Leone    Africa           38.123     4143115   \n",
       "\n",
       "               gdp  \n",
       "83   3590446333290  \n",
       "72    203309577124  \n",
       "161   246475684488  \n",
       "7     560384787591  \n",
       "160   253754781920  \n",
       "..             ...  \n",
       "3      34063908358  \n",
       "187     9319560365  \n",
       "31      2820624534  \n",
       "186    10558616670  \n",
       "147     2141990455  \n",
       "\n",
       "[188 rows x 5 columns]"
      ]
     },
     "execution_count": 19,
     "metadata": {},
     "output_type": "execute_result"
    }
   ],
   "source": [
    "df.sort_values('life_expectancy',ascending=False)"
   ]
  },
  {
   "cell_type": "markdown",
   "id": "c7a87962",
   "metadata": {},
   "source": [
    "## STEP 09\n",
    "## I ONLY WANT THE TOP 10"
   ]
  },
  {
   "cell_type": "code",
   "execution_count": 21,
   "id": "cea53795",
   "metadata": {},
   "outputs": [
    {
     "data": {
      "text/html": [
       "<div>\n",
       "<style scoped>\n",
       "    .dataframe tbody tr th:only-of-type {\n",
       "        vertical-align: middle;\n",
       "    }\n",
       "\n",
       "    .dataframe tbody tr th {\n",
       "        vertical-align: top;\n",
       "    }\n",
       "\n",
       "    .dataframe thead th {\n",
       "        text-align: right;\n",
       "    }\n",
       "</style>\n",
       "<table border=\"1\" class=\"dataframe\">\n",
       "  <thead>\n",
       "    <tr style=\"text-align: right;\">\n",
       "      <th></th>\n",
       "      <th>country</th>\n",
       "      <th>continent</th>\n",
       "      <th>life_expectancy</th>\n",
       "      <th>population</th>\n",
       "      <th>gdp</th>\n",
       "    </tr>\n",
       "  </thead>\n",
       "  <tbody>\n",
       "    <tr>\n",
       "      <th>83</th>\n",
       "      <td>Japan</td>\n",
       "      <td>Asia</td>\n",
       "      <td>81.350</td>\n",
       "      <td>125720310</td>\n",
       "      <td>3590446333290</td>\n",
       "    </tr>\n",
       "    <tr>\n",
       "      <th>72</th>\n",
       "      <td>Hong Kong, China</td>\n",
       "      <td>Asia</td>\n",
       "      <td>80.361</td>\n",
       "      <td>6783317</td>\n",
       "      <td>203309577124</td>\n",
       "    </tr>\n",
       "    <tr>\n",
       "      <th>161</th>\n",
       "      <td>Switzerland</td>\n",
       "      <td>Europe</td>\n",
       "      <td>79.990</td>\n",
       "      <td>7167908</td>\n",
       "      <td>246475684488</td>\n",
       "    </tr>\n",
       "    <tr>\n",
       "      <th>7</th>\n",
       "      <td>Australia</td>\n",
       "      <td>Oceania</td>\n",
       "      <td>79.930</td>\n",
       "      <td>19164351</td>\n",
       "      <td>560384787591</td>\n",
       "    </tr>\n",
       "    <tr>\n",
       "      <th>160</th>\n",
       "      <td>Sweden</td>\n",
       "      <td>Europe</td>\n",
       "      <td>79.840</td>\n",
       "      <td>8860153</td>\n",
       "      <td>253754781920</td>\n",
       "    </tr>\n",
       "    <tr>\n",
       "      <th>81</th>\n",
       "      <td>Italy</td>\n",
       "      <td>Europe</td>\n",
       "      <td>79.730</td>\n",
       "      <td>56986329</td>\n",
       "      <td>1547748695640</td>\n",
       "    </tr>\n",
       "    <tr>\n",
       "      <th>74</th>\n",
       "      <td>Iceland</td>\n",
       "      <td>Europe</td>\n",
       "      <td>79.720</td>\n",
       "      <td>281210</td>\n",
       "      <td>8743381320</td>\n",
       "    </tr>\n",
       "    <tr>\n",
       "      <th>29</th>\n",
       "      <td>Canada</td>\n",
       "      <td>N. America</td>\n",
       "      <td>79.410</td>\n",
       "      <td>30667365</td>\n",
       "      <td>995094659520</td>\n",
       "    </tr>\n",
       "    <tr>\n",
       "      <th>155</th>\n",
       "      <td>Spain</td>\n",
       "      <td>Europe</td>\n",
       "      <td>79.340</td>\n",
       "      <td>40288457</td>\n",
       "      <td>943152778370</td>\n",
       "    </tr>\n",
       "    <tr>\n",
       "      <th>57</th>\n",
       "      <td>France</td>\n",
       "      <td>Europe</td>\n",
       "      <td>79.230</td>\n",
       "      <td>59047795</td>\n",
       "      <td>1690892657620</td>\n",
       "    </tr>\n",
       "  </tbody>\n",
       "</table>\n",
       "</div>"
      ],
      "text/plain": [
       "              country   continent  life_expectancy  population            gdp\n",
       "83              Japan        Asia           81.350   125720310  3590446333290\n",
       "72   Hong Kong, China        Asia           80.361     6783317   203309577124\n",
       "161       Switzerland      Europe           79.990     7167908   246475684488\n",
       "7           Australia     Oceania           79.930    19164351   560384787591\n",
       "160            Sweden      Europe           79.840     8860153   253754781920\n",
       "81              Italy      Europe           79.730    56986329  1547748695640\n",
       "74            Iceland      Europe           79.720      281210     8743381320\n",
       "29             Canada  N. America           79.410    30667365   995094659520\n",
       "155             Spain      Europe           79.340    40288457   943152778370\n",
       "57             France      Europe           79.230    59047795  1690892657620"
      ]
     },
     "execution_count": 21,
     "metadata": {},
     "output_type": "execute_result"
    }
   ],
   "source": [
    "df.sort_values(\"life_expectancy\", ascending=False).head(10)"
   ]
  },
  {
   "cell_type": "markdown",
   "id": "651392f8",
   "metadata": {},
   "source": [
    "## We want to entry country in Asia with a life expectancy over 75"
   ]
  },
  {
   "cell_type": "code",
   "execution_count": 23,
   "id": "6a118395",
   "metadata": {},
   "outputs": [
    {
     "data": {
      "text/plain": [
       "0      False\n",
       "1      False\n",
       "2      False\n",
       "3      False\n",
       "4      False\n",
       "       ...  \n",
       "183    False\n",
       "184    False\n",
       "185    False\n",
       "186    False\n",
       "187    False\n",
       "Length: 188, dtype: bool"
      ]
     },
     "execution_count": 23,
     "metadata": {},
     "output_type": "execute_result"
    }
   ],
   "source": [
    "## We want to entry country in Asia with a life expectancy over 75\n",
    "## df[life_expectancy] > 75\n",
    "## df['continent'] =='Asia'\n",
    "## and 用&来表示\n",
    "\n",
    "(df['life_expectancy']>75) & (df[\"continent\"]== \"Asia\")"
   ]
  },
  {
   "cell_type": "markdown",
   "id": "11953c51",
   "metadata": {},
   "source": [
    "## 彻底变美，前面再加一个df"
   ]
  },
  {
   "cell_type": "code",
   "execution_count": 25,
   "id": "512fe21c",
   "metadata": {},
   "outputs": [
    {
     "data": {
      "text/html": [
       "<div>\n",
       "<style scoped>\n",
       "    .dataframe tbody tr th:only-of-type {\n",
       "        vertical-align: middle;\n",
       "    }\n",
       "\n",
       "    .dataframe tbody tr th {\n",
       "        vertical-align: top;\n",
       "    }\n",
       "\n",
       "    .dataframe thead th {\n",
       "        text-align: right;\n",
       "    }\n",
       "</style>\n",
       "<table border=\"1\" class=\"dataframe\">\n",
       "  <thead>\n",
       "    <tr style=\"text-align: right;\">\n",
       "      <th></th>\n",
       "      <th>country</th>\n",
       "      <th>continent</th>\n",
       "      <th>life_expectancy</th>\n",
       "      <th>population</th>\n",
       "      <th>gdp</th>\n",
       "    </tr>\n",
       "  </thead>\n",
       "  <tbody>\n",
       "    <tr>\n",
       "      <th>23</th>\n",
       "      <td>Brunei</td>\n",
       "      <td>Asia</td>\n",
       "      <td>75.927</td>\n",
       "      <td>327036</td>\n",
       "      <td>15704268720</td>\n",
       "    </tr>\n",
       "    <tr>\n",
       "      <th>72</th>\n",
       "      <td>Hong Kong, China</td>\n",
       "      <td>Asia</td>\n",
       "      <td>80.361</td>\n",
       "      <td>6783317</td>\n",
       "      <td>203309577124</td>\n",
       "    </tr>\n",
       "    <tr>\n",
       "      <th>80</th>\n",
       "      <td>Israel</td>\n",
       "      <td>Asia</td>\n",
       "      <td>78.750</td>\n",
       "      <td>6014953</td>\n",
       "      <td>137345436802</td>\n",
       "    </tr>\n",
       "    <tr>\n",
       "      <th>83</th>\n",
       "      <td>Japan</td>\n",
       "      <td>Asia</td>\n",
       "      <td>81.350</td>\n",
       "      <td>125720310</td>\n",
       "      <td>3590446333290</td>\n",
       "    </tr>\n",
       "    <tr>\n",
       "      <th>89</th>\n",
       "      <td>Korea, Rep.</td>\n",
       "      <td>Asia</td>\n",
       "      <td>76.114</td>\n",
       "      <td>45987624</td>\n",
       "      <td>781559669880</td>\n",
       "    </tr>\n",
       "    <tr>\n",
       "      <th>100</th>\n",
       "      <td>Macao, China</td>\n",
       "      <td>Asia</td>\n",
       "      <td>77.627</td>\n",
       "      <td>431867</td>\n",
       "      <td>9722189904</td>\n",
       "    </tr>\n",
       "    <tr>\n",
       "      <th>135</th>\n",
       "      <td>Qatar</td>\n",
       "      <td>Asia</td>\n",
       "      <td>76.680</td>\n",
       "      <td>590957</td>\n",
       "      <td>35690257058</td>\n",
       "    </tr>\n",
       "    <tr>\n",
       "      <th>148</th>\n",
       "      <td>Singapore</td>\n",
       "      <td>Asia</td>\n",
       "      <td>78.340</td>\n",
       "      <td>3919300</td>\n",
       "      <td>144363496200</td>\n",
       "    </tr>\n",
       "    <tr>\n",
       "      <th>163</th>\n",
       "      <td>Taiwan</td>\n",
       "      <td>Asia</td>\n",
       "      <td>76.020</td>\n",
       "      <td>22183000</td>\n",
       "      <td>521855075000</td>\n",
       "    </tr>\n",
       "  </tbody>\n",
       "</table>\n",
       "</div>"
      ],
      "text/plain": [
       "              country continent  life_expectancy  population            gdp\n",
       "23             Brunei      Asia           75.927      327036    15704268720\n",
       "72   Hong Kong, China      Asia           80.361     6783317   203309577124\n",
       "80             Israel      Asia           78.750     6014953   137345436802\n",
       "83              Japan      Asia           81.350   125720310  3590446333290\n",
       "89        Korea, Rep.      Asia           76.114    45987624   781559669880\n",
       "100      Macao, China      Asia           77.627      431867     9722189904\n",
       "135             Qatar      Asia           76.680      590957    35690257058\n",
       "148         Singapore      Asia           78.340     3919300   144363496200\n",
       "163            Taiwan      Asia           76.020    22183000   521855075000"
      ]
     },
     "execution_count": 25,
     "metadata": {},
     "output_type": "execute_result"
    }
   ],
   "source": [
    "df[(df['life_expectancy']>75) & (df[\"continent\"]== \"Asia\")]"
   ]
  },
  {
   "cell_type": "markdown",
   "id": "fa9f24a3",
   "metadata": {},
   "source": [
    "## 如果只是想要特别其中的一个国家"
   ]
  },
  {
   "cell_type": "code",
   "execution_count": 27,
   "id": "ee8d3a1c",
   "metadata": {},
   "outputs": [
    {
     "data": {
      "text/html": [
       "<div>\n",
       "<style scoped>\n",
       "    .dataframe tbody tr th:only-of-type {\n",
       "        vertical-align: middle;\n",
       "    }\n",
       "\n",
       "    .dataframe tbody tr th {\n",
       "        vertical-align: top;\n",
       "    }\n",
       "\n",
       "    .dataframe thead th {\n",
       "        text-align: right;\n",
       "    }\n",
       "</style>\n",
       "<table border=\"1\" class=\"dataframe\">\n",
       "  <thead>\n",
       "    <tr style=\"text-align: right;\">\n",
       "      <th></th>\n",
       "      <th>country</th>\n",
       "      <th>continent</th>\n",
       "      <th>life_expectancy</th>\n",
       "      <th>population</th>\n",
       "      <th>gdp</th>\n",
       "    </tr>\n",
       "  </thead>\n",
       "  <tbody>\n",
       "    <tr>\n",
       "      <th>110</th>\n",
       "      <td>Mexico</td>\n",
       "      <td>N. America</td>\n",
       "      <td>74.38</td>\n",
       "      <td>99959594</td>\n",
       "      <td>1088959817036</td>\n",
       "    </tr>\n",
       "  </tbody>\n",
       "</table>\n",
       "</div>"
      ],
      "text/plain": [
       "    country   continent  life_expectancy  population            gdp\n",
       "110  Mexico  N. America            74.38    99959594  1088959817036"
      ]
     },
     "execution_count": 27,
     "metadata": {},
     "output_type": "execute_result"
    }
   ],
   "source": [
    "df[(df[\"country\"]== \"Mexico\")]"
   ]
  },
  {
   "cell_type": "markdown",
   "id": "e378479e",
   "metadata": {},
   "source": [
    "## I WANT A BETTER MEASURE OF CENTRAL TENDENCIES"
   ]
  },
  {
   "cell_type": "code",
   "execution_count": 28,
   "id": "36acfb96",
   "metadata": {},
   "outputs": [
    {
     "data": {
      "text/plain": [
       "np.float64(70.04150000000001)"
      ]
     },
     "execution_count": 28,
     "metadata": {},
     "output_type": "execute_result"
    }
   ],
   "source": [
    "# if you want to have median\n",
    "df[\"life_expectancy\"].median()"
   ]
  },
  {
   "cell_type": "code",
   "execution_count": 29,
   "id": "e5242304",
   "metadata": {},
   "outputs": [
    {
     "data": {
      "text/plain": [
       "np.int64(48316204002444)"
      ]
     },
     "execution_count": 29,
     "metadata": {},
     "output_type": "execute_result"
    }
   ],
   "source": [
    "# if you want to know the sum\n",
    "df[\"gdp\"].sum()"
   ]
  },
  {
   "cell_type": "code",
   "execution_count": 30,
   "id": "8f38a1db",
   "metadata": {},
   "outputs": [
    {
     "data": {
      "text/plain": [
       "count    188.000000\n",
       "mean      66.501536\n",
       "std       10.298458\n",
       "min       38.123000\n",
       "25%       59.663750\n",
       "50%       70.041500\n",
       "75%       74.134500\n",
       "max       81.350000\n",
       "Name: life_expectancy, dtype: float64"
      ]
     },
     "execution_count": 30,
     "metadata": {},
     "output_type": "execute_result"
    }
   ],
   "source": [
    "## i want to know them all\n",
    "df[\"life_expectancy\"].describe()"
   ]
  },
  {
   "cell_type": "markdown",
   "id": "03f730c9",
   "metadata": {},
   "source": [
    "## I want to do the correlation"
   ]
  },
  {
   "cell_type": "code",
   "execution_count": 35,
   "id": "ced4e5b4",
   "metadata": {},
   "outputs": [
    {
     "data": {
      "text/html": [
       "<div>\n",
       "<style scoped>\n",
       "    .dataframe tbody tr th:only-of-type {\n",
       "        vertical-align: middle;\n",
       "    }\n",
       "\n",
       "    .dataframe tbody tr th {\n",
       "        vertical-align: top;\n",
       "    }\n",
       "\n",
       "    .dataframe thead th {\n",
       "        text-align: right;\n",
       "    }\n",
       "</style>\n",
       "<table border=\"1\" class=\"dataframe\">\n",
       "  <thead>\n",
       "    <tr style=\"text-align: right;\">\n",
       "      <th></th>\n",
       "      <th>country</th>\n",
       "      <th>continent</th>\n",
       "      <th>life_expectancy</th>\n",
       "      <th>population</th>\n",
       "      <th>gdp</th>\n",
       "      <th>gdp_per_capital</th>\n",
       "    </tr>\n",
       "  </thead>\n",
       "  <tbody>\n",
       "    <tr>\n",
       "      <th>0</th>\n",
       "      <td>Afghanistan</td>\n",
       "      <td>Asia</td>\n",
       "      <td>54.863</td>\n",
       "      <td>22856302</td>\n",
       "      <td>15153728226</td>\n",
       "      <td>663.0</td>\n",
       "    </tr>\n",
       "    <tr>\n",
       "      <th>1</th>\n",
       "      <td>Albania</td>\n",
       "      <td>Europe</td>\n",
       "      <td>74.200</td>\n",
       "      <td>3071856</td>\n",
       "      <td>12886435920</td>\n",
       "      <td>4195.0</td>\n",
       "    </tr>\n",
       "  </tbody>\n",
       "</table>\n",
       "</div>"
      ],
      "text/plain": [
       "       country continent  life_expectancy  population          gdp  \\\n",
       "0  Afghanistan      Asia           54.863    22856302  15153728226   \n",
       "1      Albania    Europe           74.200     3071856  12886435920   \n",
       "\n",
       "   gdp_per_capital  \n",
       "0            663.0  \n",
       "1           4195.0  "
      ]
     },
     "execution_count": 35,
     "metadata": {},
     "output_type": "execute_result"
    }
   ],
   "source": [
    "# can we do the per captial gdp\n",
    "# gdp/population\n",
    "\n",
    "df['gdp_per_capital'] = df['gdp']/df['population']\n",
    "df.head(2)\n"
   ]
  },
  {
   "cell_type": "markdown",
   "id": "c8741e60",
   "metadata": {},
   "source": [
    "## GROUPBY"
   ]
  },
  {
   "cell_type": "code",
   "execution_count": 39,
   "id": "ccf8c9f2",
   "metadata": {},
   "outputs": [
    {
     "data": {
      "text/plain": [
       "continent\n",
       "Africa        52.1025\n",
       "Asia          70.4275\n",
       "Europe        75.5800\n",
       "N. America    70.5765\n",
       "Oceania       67.4955\n",
       "S. America    70.7660\n",
       "Name: life_expectancy, dtype: float64"
      ]
     },
     "execution_count": 39,
     "metadata": {},
     "output_type": "execute_result"
    }
   ],
   "source": [
    "# 1: USE df\n",
    "# 2: filters\n",
    "# 3: groupny\n",
    "# 4: column(s)\n",
    "# 5: the math\n",
    "\n",
    "df.groupby('continent')['life_expectancy'].median()"
   ]
  },
  {
   "cell_type": "markdown",
   "id": "5592c98b",
   "metadata": {},
   "source": [
    "## 试一试south america怎么看head 2"
   ]
  },
  {
   "cell_type": "code",
   "execution_count": 41,
   "id": "737c571c",
   "metadata": {},
   "outputs": [
    {
     "data": {
      "text/html": [
       "<div>\n",
       "<style scoped>\n",
       "    .dataframe tbody tr th:only-of-type {\n",
       "        vertical-align: middle;\n",
       "    }\n",
       "\n",
       "    .dataframe tbody tr th {\n",
       "        vertical-align: top;\n",
       "    }\n",
       "\n",
       "    .dataframe thead th {\n",
       "        text-align: right;\n",
       "    }\n",
       "</style>\n",
       "<table border=\"1\" class=\"dataframe\">\n",
       "  <thead>\n",
       "    <tr style=\"text-align: right;\">\n",
       "      <th></th>\n",
       "      <th>country</th>\n",
       "      <th>continent</th>\n",
       "      <th>life_expectancy</th>\n",
       "      <th>population</th>\n",
       "      <th>gdp</th>\n",
       "      <th>gdp_per_capital</th>\n",
       "    </tr>\n",
       "  </thead>\n",
       "  <tbody>\n",
       "    <tr>\n",
       "      <th>5</th>\n",
       "      <td>Argentina</td>\n",
       "      <td>S. America</td>\n",
       "      <td>73.822</td>\n",
       "      <td>36930709</td>\n",
       "      <td>390394524839</td>\n",
       "      <td>10571.0</td>\n",
       "    </tr>\n",
       "    <tr>\n",
       "      <th>19</th>\n",
       "      <td>Bolivia</td>\n",
       "      <td>S. America</td>\n",
       "      <td>62.994</td>\n",
       "      <td>8307248</td>\n",
       "      <td>28194799712</td>\n",
       "      <td>3394.0</td>\n",
       "    </tr>\n",
       "  </tbody>\n",
       "</table>\n",
       "</div>"
      ],
      "text/plain": [
       "      country   continent  life_expectancy  population           gdp  \\\n",
       "5   Argentina  S. America           73.822    36930709  390394524839   \n",
       "19    Bolivia  S. America           62.994     8307248   28194799712   \n",
       "\n",
       "    gdp_per_capital  \n",
       "5           10571.0  \n",
       "19           3394.0  "
      ]
     },
     "execution_count": 41,
     "metadata": {},
     "output_type": "execute_result"
    }
   ],
   "source": [
    "south_america=df[df['continent'] =='S. America']\n",
    "south_america.head(2)"
   ]
  },
  {
   "cell_type": "markdown",
   "id": "acc0cdbb",
   "metadata": {},
   "source": [
    "## how many countries in each continent？"
   ]
  },
  {
   "cell_type": "code",
   "execution_count": 44,
   "id": "77702e9d",
   "metadata": {},
   "outputs": [
    {
     "data": {
      "text/plain": [
       "continent\n",
       "Africa        54\n",
       "Asia          48\n",
       "Europe        42\n",
       "N. America    22\n",
       "S. America    12\n",
       "Oceania       10\n",
       "Name: count, dtype: int64"
      ]
     },
     "execution_count": 44,
     "metadata": {},
     "output_type": "execute_result"
    }
   ],
   "source": [
    "df['continent'].value_counts()"
   ]
  },
  {
   "cell_type": "markdown",
   "id": "2af4112e",
   "metadata": {},
   "source": [
    "## Reading stuff from the internet???"
   ]
  },
  {
   "cell_type": "code",
   "execution_count": 46,
   "id": "26c4ba3a",
   "metadata": {},
   "outputs": [
    {
     "data": {
      "text/plain": [
       "1"
      ]
     },
     "execution_count": 46,
     "metadata": {},
     "output_type": "execute_result"
    }
   ],
   "source": [
    "url=\"https://www.theguardian.com/football/laligafootball/table\"\n",
    "tables = pd.read_html(url)\n",
    "len(tables)"
   ]
  },
  {
   "cell_type": "code",
   "execution_count": 48,
   "id": "8807a1cd",
   "metadata": {},
   "outputs": [
    {
     "data": {
      "text/html": [
       "<div>\n",
       "<style scoped>\n",
       "    .dataframe tbody tr th:only-of-type {\n",
       "        vertical-align: middle;\n",
       "    }\n",
       "\n",
       "    .dataframe tbody tr th {\n",
       "        vertical-align: top;\n",
       "    }\n",
       "\n",
       "    .dataframe thead th {\n",
       "        text-align: right;\n",
       "    }\n",
       "</style>\n",
       "<table border=\"1\" class=\"dataframe\">\n",
       "  <thead>\n",
       "    <tr style=\"text-align: right;\">\n",
       "      <th></th>\n",
       "      <th>P</th>\n",
       "      <th>Team</th>\n",
       "      <th>GP</th>\n",
       "      <th>W</th>\n",
       "      <th>D</th>\n",
       "      <th>L</th>\n",
       "      <th>F</th>\n",
       "      <th>A</th>\n",
       "      <th>GD</th>\n",
       "      <th>Pts</th>\n",
       "      <th>Form</th>\n",
       "    </tr>\n",
       "  </thead>\n",
       "  <tbody>\n",
       "    <tr>\n",
       "      <th>0</th>\n",
       "      <td>1</td>\n",
       "      <td>Alaves</td>\n",
       "      <td>0</td>\n",
       "      <td>0</td>\n",
       "      <td>0</td>\n",
       "      <td>0</td>\n",
       "      <td>0</td>\n",
       "      <td>0</td>\n",
       "      <td>0</td>\n",
       "      <td>0</td>\n",
       "      <td>Won 1-0 against Valencia  Drew 2-2 with Girona...</td>\n",
       "    </tr>\n",
       "    <tr>\n",
       "      <th>1</th>\n",
       "      <td>2</td>\n",
       "      <td>A Bilbao</td>\n",
       "      <td>0</td>\n",
       "      <td>0</td>\n",
       "      <td>0</td>\n",
       "      <td>0</td>\n",
       "      <td>0</td>\n",
       "      <td>0</td>\n",
       "      <td>0</td>\n",
       "      <td>0</td>\n",
       "      <td>Won 2-0 against Getafe  Drew 2-2 with Osasuna ...</td>\n",
       "    </tr>\n",
       "    <tr>\n",
       "      <th>2</th>\n",
       "      <td>3</td>\n",
       "      <td>Atlético</td>\n",
       "      <td>0</td>\n",
       "      <td>0</td>\n",
       "      <td>0</td>\n",
       "      <td>0</td>\n",
       "      <td>0</td>\n",
       "      <td>0</td>\n",
       "      <td>0</td>\n",
       "      <td>0</td>\n",
       "      <td>Won 1-0 against Mallorca  Won 1-0 against Celt...</td>\n",
       "    </tr>\n",
       "    <tr>\n",
       "      <th>3</th>\n",
       "      <td>4</td>\n",
       "      <td>Barcelona</td>\n",
       "      <td>0</td>\n",
       "      <td>0</td>\n",
       "      <td>0</td>\n",
       "      <td>0</td>\n",
       "      <td>0</td>\n",
       "      <td>0</td>\n",
       "      <td>0</td>\n",
       "      <td>0</td>\n",
       "      <td>Lost 2-4 to Girona  Won 2-0 against Real Socie...</td>\n",
       "    </tr>\n",
       "    <tr>\n",
       "      <th>4</th>\n",
       "      <td>5</td>\n",
       "      <td>Celta Vigo</td>\n",
       "      <td>0</td>\n",
       "      <td>0</td>\n",
       "      <td>0</td>\n",
       "      <td>0</td>\n",
       "      <td>0</td>\n",
       "      <td>0</td>\n",
       "      <td>0</td>\n",
       "      <td>0</td>\n",
       "      <td>Won 3-2 against Villarreal  Lost 0-1 to Atléti...</td>\n",
       "    </tr>\n",
       "    <tr>\n",
       "      <th>5</th>\n",
       "      <td>6</td>\n",
       "      <td>Getafe</td>\n",
       "      <td>0</td>\n",
       "      <td>0</td>\n",
       "      <td>0</td>\n",
       "      <td>0</td>\n",
       "      <td>0</td>\n",
       "      <td>0</td>\n",
       "      <td>0</td>\n",
       "      <td>0</td>\n",
       "      <td>Lost 0-2 to A Bilbao  Lost 0-1 to Cadiz  Lost ...</td>\n",
       "    </tr>\n",
       "    <tr>\n",
       "      <th>6</th>\n",
       "      <td>7</td>\n",
       "      <td>Girona</td>\n",
       "      <td>0</td>\n",
       "      <td>0</td>\n",
       "      <td>0</td>\n",
       "      <td>0</td>\n",
       "      <td>0</td>\n",
       "      <td>0</td>\n",
       "      <td>0</td>\n",
       "      <td>0</td>\n",
       "      <td>Won 4-2 against Barcelona  Drew 2-2 with Alave...</td>\n",
       "    </tr>\n",
       "    <tr>\n",
       "      <th>7</th>\n",
       "      <td>8</td>\n",
       "      <td>Las Palmas</td>\n",
       "      <td>0</td>\n",
       "      <td>0</td>\n",
       "      <td>0</td>\n",
       "      <td>0</td>\n",
       "      <td>0</td>\n",
       "      <td>0</td>\n",
       "      <td>0</td>\n",
       "      <td>0</td>\n",
       "      <td>Lost 0-2 to Real Sociedad  Lost 0-1 to Mallorc...</td>\n",
       "    </tr>\n",
       "    <tr>\n",
       "      <th>8</th>\n",
       "      <td>9</td>\n",
       "      <td>Leganes</td>\n",
       "      <td>0</td>\n",
       "      <td>0</td>\n",
       "      <td>0</td>\n",
       "      <td>0</td>\n",
       "      <td>0</td>\n",
       "      <td>0</td>\n",
       "      <td>0</td>\n",
       "      <td>0</td>\n",
       "      <td>NaN</td>\n",
       "    </tr>\n",
       "    <tr>\n",
       "      <th>9</th>\n",
       "      <td>10</td>\n",
       "      <td>Mallorca</td>\n",
       "      <td>0</td>\n",
       "      <td>0</td>\n",
       "      <td>0</td>\n",
       "      <td>0</td>\n",
       "      <td>0</td>\n",
       "      <td>0</td>\n",
       "      <td>0</td>\n",
       "      <td>0</td>\n",
       "      <td>Lost 0-1 to Atlético  Won 1-0 against Las Palm...</td>\n",
       "    </tr>\n",
       "    <tr>\n",
       "      <th>10</th>\n",
       "      <td>11</td>\n",
       "      <td>Osasuna</td>\n",
       "      <td>0</td>\n",
       "      <td>0</td>\n",
       "      <td>0</td>\n",
       "      <td>0</td>\n",
       "      <td>0</td>\n",
       "      <td>0</td>\n",
       "      <td>0</td>\n",
       "      <td>0</td>\n",
       "      <td>Lost 0-2 to Real Betis  Drew 2-2 with A Bilbao...</td>\n",
       "    </tr>\n",
       "    <tr>\n",
       "      <th>11</th>\n",
       "      <td>12</td>\n",
       "      <td>Rayo Vallecano</td>\n",
       "      <td>0</td>\n",
       "      <td>0</td>\n",
       "      <td>0</td>\n",
       "      <td>0</td>\n",
       "      <td>0</td>\n",
       "      <td>0</td>\n",
       "      <td>0</td>\n",
       "      <td>0</td>\n",
       "      <td>Lost 0-1 to Almeria  Drew 0-0 with Valencia  W...</td>\n",
       "    </tr>\n",
       "    <tr>\n",
       "      <th>12</th>\n",
       "      <td>13</td>\n",
       "      <td>Real Betis</td>\n",
       "      <td>0</td>\n",
       "      <td>0</td>\n",
       "      <td>0</td>\n",
       "      <td>0</td>\n",
       "      <td>0</td>\n",
       "      <td>0</td>\n",
       "      <td>0</td>\n",
       "      <td>0</td>\n",
       "      <td>Won 2-0 against Osasuna  Won 3-2 against Almer...</td>\n",
       "    </tr>\n",
       "    <tr>\n",
       "      <th>13</th>\n",
       "      <td>14</td>\n",
       "      <td>Real Madrid</td>\n",
       "      <td>0</td>\n",
       "      <td>0</td>\n",
       "      <td>0</td>\n",
       "      <td>0</td>\n",
       "      <td>0</td>\n",
       "      <td>0</td>\n",
       "      <td>0</td>\n",
       "      <td>0</td>\n",
       "      <td>Won 3-0 against Cadiz  Won 4-0 against Granada...</td>\n",
       "    </tr>\n",
       "    <tr>\n",
       "      <th>14</th>\n",
       "      <td>15</td>\n",
       "      <td>Real Sociedad</td>\n",
       "      <td>0</td>\n",
       "      <td>0</td>\n",
       "      <td>0</td>\n",
       "      <td>0</td>\n",
       "      <td>0</td>\n",
       "      <td>0</td>\n",
       "      <td>0</td>\n",
       "      <td>0</td>\n",
       "      <td>Won 2-0 against Las Palmas  Lost 0-2 to Barcel...</td>\n",
       "    </tr>\n",
       "    <tr>\n",
       "      <th>15</th>\n",
       "      <td>16</td>\n",
       "      <td>Sevilla</td>\n",
       "      <td>0</td>\n",
       "      <td>0</td>\n",
       "      <td>0</td>\n",
       "      <td>0</td>\n",
       "      <td>0</td>\n",
       "      <td>0</td>\n",
       "      <td>0</td>\n",
       "      <td>0</td>\n",
       "      <td>Won 3-0 against Granada  Lost 2-3 to Villarrea...</td>\n",
       "    </tr>\n",
       "    <tr>\n",
       "      <th>16</th>\n",
       "      <td>17</td>\n",
       "      <td>Valencia</td>\n",
       "      <td>0</td>\n",
       "      <td>0</td>\n",
       "      <td>0</td>\n",
       "      <td>0</td>\n",
       "      <td>0</td>\n",
       "      <td>0</td>\n",
       "      <td>0</td>\n",
       "      <td>0</td>\n",
       "      <td>Lost 0-1 to Alaves  Drew 0-0 with Rayo Valleca...</td>\n",
       "    </tr>\n",
       "    <tr>\n",
       "      <th>17</th>\n",
       "      <td>18</td>\n",
       "      <td>Valladolid</td>\n",
       "      <td>0</td>\n",
       "      <td>0</td>\n",
       "      <td>0</td>\n",
       "      <td>0</td>\n",
       "      <td>0</td>\n",
       "      <td>0</td>\n",
       "      <td>0</td>\n",
       "      <td>0</td>\n",
       "      <td>NaN</td>\n",
       "    </tr>\n",
       "    <tr>\n",
       "      <th>18</th>\n",
       "      <td>19</td>\n",
       "      <td>Villarreal</td>\n",
       "      <td>0</td>\n",
       "      <td>0</td>\n",
       "      <td>0</td>\n",
       "      <td>0</td>\n",
       "      <td>0</td>\n",
       "      <td>0</td>\n",
       "      <td>0</td>\n",
       "      <td>0</td>\n",
       "      <td>Lost 2-3 to Celta Vigo  Won 3-2 against Sevill...</td>\n",
       "    </tr>\n",
       "  </tbody>\n",
       "</table>\n",
       "</div>"
      ],
      "text/plain": [
       "     P            Team  GP  W  D  L  F  A  GD  Pts  \\\n",
       "0    1          Alaves   0  0  0  0  0  0   0    0   \n",
       "1    2        A Bilbao   0  0  0  0  0  0   0    0   \n",
       "2    3        Atlético   0  0  0  0  0  0   0    0   \n",
       "3    4       Barcelona   0  0  0  0  0  0   0    0   \n",
       "4    5      Celta Vigo   0  0  0  0  0  0   0    0   \n",
       "5    6          Getafe   0  0  0  0  0  0   0    0   \n",
       "6    7          Girona   0  0  0  0  0  0   0    0   \n",
       "7    8      Las Palmas   0  0  0  0  0  0   0    0   \n",
       "8    9         Leganes   0  0  0  0  0  0   0    0   \n",
       "9   10        Mallorca   0  0  0  0  0  0   0    0   \n",
       "10  11         Osasuna   0  0  0  0  0  0   0    0   \n",
       "11  12  Rayo Vallecano   0  0  0  0  0  0   0    0   \n",
       "12  13      Real Betis   0  0  0  0  0  0   0    0   \n",
       "13  14     Real Madrid   0  0  0  0  0  0   0    0   \n",
       "14  15   Real Sociedad   0  0  0  0  0  0   0    0   \n",
       "15  16         Sevilla   0  0  0  0  0  0   0    0   \n",
       "16  17        Valencia   0  0  0  0  0  0   0    0   \n",
       "17  18      Valladolid   0  0  0  0  0  0   0    0   \n",
       "18  19      Villarreal   0  0  0  0  0  0   0    0   \n",
       "\n",
       "                                                 Form  \n",
       "0   Won 1-0 against Valencia  Drew 2-2 with Girona...  \n",
       "1   Won 2-0 against Getafe  Drew 2-2 with Osasuna ...  \n",
       "2   Won 1-0 against Mallorca  Won 1-0 against Celt...  \n",
       "3   Lost 2-4 to Girona  Won 2-0 against Real Socie...  \n",
       "4   Won 3-2 against Villarreal  Lost 0-1 to Atléti...  \n",
       "5   Lost 0-2 to A Bilbao  Lost 0-1 to Cadiz  Lost ...  \n",
       "6   Won 4-2 against Barcelona  Drew 2-2 with Alave...  \n",
       "7   Lost 0-2 to Real Sociedad  Lost 0-1 to Mallorc...  \n",
       "8                                                 NaN  \n",
       "9   Lost 0-1 to Atlético  Won 1-0 against Las Palm...  \n",
       "10  Lost 0-2 to Real Betis  Drew 2-2 with A Bilbao...  \n",
       "11  Lost 0-1 to Almeria  Drew 0-0 with Valencia  W...  \n",
       "12  Won 2-0 against Osasuna  Won 3-2 against Almer...  \n",
       "13  Won 3-0 against Cadiz  Won 4-0 against Granada...  \n",
       "14  Won 2-0 against Las Palmas  Lost 0-2 to Barcel...  \n",
       "15  Won 3-0 against Granada  Lost 2-3 to Villarrea...  \n",
       "16  Lost 0-1 to Alaves  Drew 0-0 with Rayo Valleca...  \n",
       "17                                                NaN  \n",
       "18  Lost 2-3 to Celta Vigo  Won 3-2 against Sevill...  "
      ]
     },
     "execution_count": 48,
     "metadata": {},
     "output_type": "execute_result"
    }
   ],
   "source": [
    "tables[0]"
   ]
  },
  {
   "cell_type": "code",
   "execution_count": 50,
   "id": "ec2c2d74",
   "metadata": {},
   "outputs": [],
   "source": [
    "df.to_csv(\"team.csv\", index=False)"
   ]
  },
  {
   "cell_type": "markdown",
   "id": "db9ad04e",
   "metadata": {},
   "source": [
    "## API STUFF? "
   ]
  },
  {
   "cell_type": "code",
   "execution_count": 55,
   "id": "2cb6d4b8",
   "metadata": {},
   "outputs": [],
   "source": [
    "import requests\n",
    "\n",
    "url = \"http://api.weatherapi.com/v1/forecast.json?key=1deea713c0524e4abd621042220711&q=London&days=3&aqi=yes&alerts=no\"\n",
    "response = requests.get(url)\n",
    "data = response.json()"
   ]
  },
  {
   "cell_type": "code",
   "execution_count": 56,
   "id": "e5df0df2",
   "metadata": {},
   "outputs": [
    {
     "data": {
      "text/plain": [
       "dict_keys(['error'])"
      ]
     },
     "execution_count": 56,
     "metadata": {},
     "output_type": "execute_result"
    }
   ],
   "source": [
    "data.keys()"
   ]
  },
  {
   "cell_type": "code",
   "execution_count": 54,
   "id": "3231a08d",
   "metadata": {},
   "outputs": [
    {
     "ename": "KeyError",
     "evalue": "'forecast'",
     "output_type": "error",
     "traceback": [
      "\u001b[0;31m---------------------------------------------------------------------------\u001b[0m",
      "\u001b[0;31mKeyError\u001b[0m                                  Traceback (most recent call last)",
      "Cell \u001b[0;32mIn[54], line 1\u001b[0m\n\u001b[0;32m----> 1\u001b[0m \u001b[43mdata\u001b[49m\u001b[43m[\u001b[49m\u001b[38;5;124;43m'\u001b[39;49m\u001b[38;5;124;43mforecast\u001b[39;49m\u001b[38;5;124;43m'\u001b[39;49m\u001b[43m]\u001b[49m[\u001b[38;5;124m'\u001b[39m\u001b[38;5;124mforecastday\u001b[39m\u001b[38;5;124m'\u001b[39m]\n",
      "\u001b[0;31mKeyError\u001b[0m: 'forecast'"
     ]
    }
   ],
   "source": [
    "data['forecast']['forecastday']"
   ]
  },
  {
   "cell_type": "code",
   "execution_count": 57,
   "id": "8cb55430",
   "metadata": {},
   "outputs": [
    {
     "ename": "KeyError",
     "evalue": "'forecast'",
     "output_type": "error",
     "traceback": [
      "\u001b[0;31m---------------------------------------------------------------------------\u001b[0m",
      "\u001b[0;31mKeyError\u001b[0m                                  Traceback (most recent call last)",
      "Cell \u001b[0;32mIn[57], line 1\u001b[0m\n\u001b[0;32m----> 1\u001b[0m pd\u001b[38;5;241m.\u001b[39mDataFrame(\u001b[43mdata\u001b[49m\u001b[43m[\u001b[49m\u001b[38;5;124;43m'\u001b[39;49m\u001b[38;5;124;43mforecast\u001b[39;49m\u001b[38;5;124;43m'\u001b[39;49m\u001b[43m]\u001b[49m[\u001b[38;5;124m'\u001b[39m\u001b[38;5;124mforecastday\u001b[39m\u001b[38;5;124m'\u001b[39m])\n",
      "\u001b[0;31mKeyError\u001b[0m: 'forecast'"
     ]
    }
   ],
   "source": [
    "pd.DataFrame(data['forecast']['forecastday'])"
   ]
  },
  {
   "cell_type": "code",
   "execution_count": 58,
   "id": "cd4e32a9",
   "metadata": {},
   "outputs": [
    {
     "ename": "KeyError",
     "evalue": "'forecast'",
     "output_type": "error",
     "traceback": [
      "\u001b[0;31m---------------------------------------------------------------------------\u001b[0m",
      "\u001b[0;31mKeyError\u001b[0m                                  Traceback (most recent call last)",
      "Cell \u001b[0;32mIn[58], line 1\u001b[0m\n\u001b[0;32m----> 1\u001b[0m pd\u001b[38;5;241m.\u001b[39mjson_normalize(\u001b[43mdata\u001b[49m\u001b[43m[\u001b[49m\u001b[38;5;124;43m'\u001b[39;49m\u001b[38;5;124;43mforecast\u001b[39;49m\u001b[38;5;124;43m'\u001b[39;49m\u001b[43m]\u001b[49m[\u001b[38;5;124m'\u001b[39m\u001b[38;5;124mforecastday\u001b[39m\u001b[38;5;124m'\u001b[39m])\n",
      "\u001b[0;31mKeyError\u001b[0m: 'forecast'"
     ]
    }
   ],
   "source": [
    "pd.json_normalize(data['forecast']['forecastday'])"
   ]
  },
  {
   "cell_type": "code",
   "execution_count": 59,
   "id": "a0fd4273",
   "metadata": {},
   "outputs": [
    {
     "ename": "KeyError",
     "evalue": "'forecast'",
     "output_type": "error",
     "traceback": [
      "\u001b[0;31m---------------------------------------------------------------------------\u001b[0m",
      "\u001b[0;31mKeyError\u001b[0m                                  Traceback (most recent call last)",
      "Cell \u001b[0;32mIn[59], line 1\u001b[0m\n\u001b[0;32m----> 1\u001b[0m pd\u001b[38;5;241m.\u001b[39mjson_normalize(\u001b[43mdata\u001b[49m\u001b[43m[\u001b[49m\u001b[38;5;124;43m'\u001b[39;49m\u001b[38;5;124;43mforecast\u001b[39;49m\u001b[38;5;124;43m'\u001b[39;49m\u001b[43m]\u001b[49m[\u001b[38;5;124m'\u001b[39m\u001b[38;5;124mforecastday\u001b[39m\u001b[38;5;124m'\u001b[39m][\u001b[38;5;241m0\u001b[39m][\u001b[38;5;124m'\u001b[39m\u001b[38;5;124mhour\u001b[39m\u001b[38;5;124m'\u001b[39m])\n",
      "\u001b[0;31mKeyError\u001b[0m: 'forecast'"
     ]
    }
   ],
   "source": [
    "pd.json_normalize(data['forecast']['forecastday'][0]['hour'])"
   ]
  }
 ],
 "metadata": {
  "kernelspec": {
   "display_name": "Python 3 (ipykernel)",
   "language": "python",
   "name": "python3"
  },
  "language_info": {
   "codemirror_mode": {
    "name": "ipython",
    "version": 3
   },
   "file_extension": ".py",
   "mimetype": "text/x-python",
   "name": "python",
   "nbconvert_exporter": "python",
   "pygments_lexer": "ipython3",
   "version": "3.11.8"
  }
 },
 "nbformat": 4,
 "nbformat_minor": 5
}
